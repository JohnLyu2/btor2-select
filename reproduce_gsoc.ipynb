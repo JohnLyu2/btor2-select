{
 "cells": [
  {
   "cell_type": "markdown",
   "metadata": {},
   "source": [
    "## Benchmarks and Verifiers"
   ]
  },
  {
   "cell_type": "code",
   "execution_count": 1,
   "metadata": {},
   "outputs": [],
   "source": [
    "import joblib\n",
    "import ast\n",
    "import itertools\n",
    "import json\n",
    "import numpy as np\n",
    "from pathlib import Path\n",
    "from functools import partial\n",
    "import matplotlib.pyplot as plt\n",
    "from sklearn.preprocessing import StandardScaler\n",
    "from sklearn.decomposition import PCA\n",
    "from xgboost import XGBRegressor\n",
    "from create_feature import get_kwcounts, get_bitcounts\n",
    "from parse_raw_tsv import parse_from_tsv, parse_from_tsv_lst, get_btor2path_from_yml, tsv_train_test_partition\n",
    "from pairwise_model import PairwiseXGBoost, get_pw_algorithm_selection_lst\n",
    "from ehm import get_ehm_algorithm_selection_lst\n",
    "from analyze import get_par_N_for_dict, get_solved_num_for_dict, generate_one_resdict, generate_vbs_resdict, get_sbs\n",
    "dict_par2_func = partial(get_par_N_for_dict, N=2, timeout=900.0)"
   ]
  },
  {
   "cell_type": "code",
   "execution_count": 2,
   "metadata": {},
   "outputs": [
    {
     "name": "stdout",
     "output_type": "stream",
     "text": [
      "Total number of benchmarks: 1441\n",
      "Total number of tools: 10\n"
     ]
    }
   ],
   "source": [
    "all_res_tsv = \"performance_data/performance.table.csv\"\n",
    "all_res_dict, tool_config_dict = parse_from_tsv(all_res_tsv, num_tool_cols=2, timeout=900.0)\n",
    "tool_config_size = len(tool_config_dict)\n",
    "print(\"Total number of benchmarks:\", len(all_res_dict))\n",
    "print(\"Total number of tools:\", tool_config_size)"
   ]
  },
  {
   "cell_type": "code",
   "execution_count": 3,
   "metadata": {},
   "outputs": [
    {
     "name": "stdout",
     "output_type": "stream",
     "text": [
      "For all 1441 benchmarks (timeout=900s):\n",
      "abc.bmc.bv64                                 : solved: 373, par2: 1932691.0\n",
      "abc.imc.bv64                                 : solved: 690, par2: 1382558.4\n",
      "abc.pdr.bv64                                 : solved: 961, par2: 909922.1\n",
      "avr.bmc-boolector.bv64                       : solved: 377, par2: 1934160.3\n",
      "avr.kind.bv64                                : solved: 571, par2: 1577432.5\n",
      "avr.pdr.bv64                                 : solved: 784, par2: 1219703.5\n",
      "cbmc.bmc.bv64                                : solved: 440, par2: 1821186.9\n",
      "cbmc.kind.bv64                               : solved: 664, par2: 1431101.6\n",
      "esbmc.bmc-5-boolector.bv64                   : solved: 426, par2: 1850108.2\n",
      "esbmc.kind.bv64                              : solved: 515, par2: 1685649.6\n"
     ]
    }
   ],
   "source": [
    "# print all components' solved numbers and par2\n",
    "individual_res = []\n",
    "print(f\"For all {len(all_res_dict)} benchmarks (timeout=900s):\")\n",
    "for i in range(tool_config_size):\n",
    "    one_resdict = generate_one_resdict(all_res_dict, i)\n",
    "    one_par2 = get_par_N_for_dict(one_resdict, 2, 900.0)\n",
    "    one_solved = get_solved_num_for_dict(one_resdict)\n",
    "    individual_res.append((tool_config_dict[i][1], one_solved, one_par2))\n",
    "individual_res.sort(key=lambda x: x[0])\n",
    "for tool_config, solved, par2 in individual_res:\n",
    "    print(f\"{tool_config:<45}: solved: {solved}, par2: {par2:.1f}\")"
   ]
  },
  {
   "cell_type": "code",
   "execution_count": null,
   "metadata": {},
   "outputs": [
    {
     "name": "stdout",
     "output_type": "stream",
     "text": [
      "For 921 benchmarks whose verdict is True (timeout=900s):\n",
      "abc.bmc.bv64                                 : solved: 0, par2: 1657800.0\n",
      "abc.imc.bv64                                 : solved: 373, par2: 1004699.1\n",
      "abc.pdr.bv64                                 : solved: 580, par2: 643305.5\n",
      "avr.bmc-boolector.bv64                       : solved: 0, par2: 1657800.0\n",
      "avr.kind.bv64                                : solved: 219, par2: 1265717.8\n",
      "avr.pdr.bv64                                 : solved: 510, par2: 757311.8\n",
      "cbmc.bmc.bv64                                : solved: 30, par2: 1603829.6\n",
      "cbmc.kind.bv64                               : solved: 255, par2: 1208542.6\n",
      "esbmc.bmc-5-boolector.bv64                   : solved: 43, par2: 1580436.8\n",
      "esbmc.kind.bv64                              : solved: 149, par2: 1389944.0\n"
     ]
    }
   ],
   "source": [
    "true_res_dict, _ = parse_from_tsv(all_res_tsv, num_tool_cols=2, timeout=900.0, verdict=True)\n",
    "true_individual_res = []\n",
    "print(f\"For {len(true_res_dict)} benchmarks whose verdict is True (timeout=900s):\")\n",
    "for i in range(tool_config_size):\n",
    "    one_resdict = generate_one_resdict(true_res_dict, i)\n",
    "    one_par2 = get_par_N_for_dict(one_resdict, 2, 900.0)\n",
    "    one_solved = get_solved_num_for_dict(one_resdict)\n",
    "    true_individual_res.append((tool_config_dict[i][1], one_solved, one_par2))\n",
    "true_individual_res.sort(key=lambda x: x[0])\n",
    "for tool_config, solved, par2 in true_individual_res:\n",
    "    print(f\"{tool_config:<45}: solved: {solved}, par2: {par2:.1f}\")"
   ]
  },
  {
   "cell_type": "code",
   "execution_count": 6,
   "metadata": {},
   "outputs": [
    {
     "name": "stdout",
     "output_type": "stream",
     "text": [
      "For 520 benchmarks whose verdict is False (timeout=900s):\n",
      "abc.bmc.bv64                                 : solved: 373, par2: 274891.0\n",
      "abc.imc.bv64                                 : solved: 317, par2: 377859.3\n",
      "abc.pdr.bv64                                 : solved: 381, par2: 266616.6\n",
      "avr.bmc-boolector.bv64                       : solved: 377, par2: 276360.3\n",
      "avr.kind.bv64                                : solved: 352, par2: 311714.7\n",
      "avr.pdr.bv64                                 : solved: 274, par2: 462391.6\n",
      "cbmc.bmc.bv64                                : solved: 410, par2: 217357.3\n",
      "cbmc.kind.bv64                               : solved: 409, par2: 222559.0\n",
      "esbmc.bmc-5-boolector.bv64                   : solved: 383, par2: 269671.3\n",
      "esbmc.kind.bv64                              : solved: 366, par2: 295705.6\n"
     ]
    }
   ],
   "source": [
    "false_res_dict, _ = parse_from_tsv(all_res_tsv, num_tool_cols=2, timeout=900.0, verdict=False)\n",
    "false_individual_res = []\n",
    "print(f\"For {len(false_res_dict)} benchmarks whose verdict is False (timeout=900s):\")\n",
    "for i in range(tool_config_size):\n",
    "    one_resdict = generate_one_resdict(false_res_dict, i)\n",
    "    one_par2 = get_par_N_for_dict(one_resdict, 2, 900.0)\n",
    "    one_solved = get_solved_num_for_dict(one_resdict)\n",
    "    false_individual_res.append((tool_config_dict[i][1], one_solved, one_par2))\n",
    "false_individual_res.sort(key=lambda x: x[0])\n",
    "for tool_config, solved, par2 in false_individual_res:\n",
    "    print(f\"{tool_config:<45}: solved: {solved}, par2: {par2:.1f}\")"
   ]
  },
  {
   "cell_type": "markdown",
   "metadata": {},
   "source": [
    "## Data 5-fold Split"
   ]
  },
  {
   "cell_type": "code",
   "execution_count": 11,
   "metadata": {},
   "outputs": [
    {
     "name": "stderr",
     "output_type": "stream",
     "text": [
      "/Users/zhengyanglu/opt/anaconda3/envs/btor2select/lib/python3.12/site-packages/numpy/core/fromnumeric.py:59: FutureWarning: 'DataFrame.swapaxes' is deprecated and will be removed in a future version. Please use 'DataFrame.transpose' instead.\n",
      "  return bound(*args, **kwds)\n"
     ]
    }
   ],
   "source": [
    "# split the sets\n",
    "from parse_raw_tsv import tsv_N_fold_partition\n",
    "tsv_N_fold_partition('performance_data/performance.table.csv', 5, 'performance_data/5fold', random_seed=42)\n",
    "res_tsv_lst = [\"performance_data/5fold/0.tsv\", \"performance_data/5fold/1.tsv\", \"performance_data/5fold/2.tsv\", \"performance_data/5fold/3.tsv\", \"performance_data/5fold/4.tsv\"]"
   ]
  },
  {
   "cell_type": "markdown",
   "metadata": {},
   "source": [
    "## EHM-BoKW\n",
    "To re-train the models, run the following script:\n",
    "\n",
    "```bash\n",
    "python ehm.py --cv --save_dir=saved_models/ehm_bokw \\\n",
    "performance_data/5fold/0.tsv \\\n",
    "performance_data/5fold/1.tsv \\\n",
    "performance_data/5fold/2.tsv \\\n",
    "performance_data/5fold/3.tsv \\\n",
    "performance_data/5fold/4.tsv\n",
    "```"
   ]
  },
  {
   "cell_type": "code",
   "execution_count": 15,
   "metadata": {},
   "outputs": [
    {
     "name": "stdout",
     "output_type": "stream",
     "text": [
      "Experiment over 0\n",
      "EHM model with BoKW: Par2: 155916.4, Solved: 208\n",
      "Closed VBS-SBS gap: 46.88%\n",
      "VBS: Par2: 121767.9, Solved: 227\n",
      "SBS: Par2: 186053.3, Solved: 191\n",
      "\n",
      "Experiment over 1\n",
      "EHM model with BoKW: Par2: 152401.3, Solved: 208\n",
      "Closed VBS-SBS gap: 47.78%\n",
      "VBS: Par2: 119870.9, Solved: 227\n",
      "SBS: Par2: 182165.2, Solved: 190\n",
      "\n",
      "Experiment over 2\n",
      "EHM model with BoKW: Par2: 157530.9, Solved: 206\n",
      "Closed VBS-SBS gap: 62.24%\n",
      "VBS: Par2: 132034.0, Solved: 220\n",
      "SBS: Par2: 199555.3, Solved: 183\n",
      "\n",
      "Experiment over 3\n",
      "EHM model with BoKW: Par2: 148497.5, Solved: 210\n",
      "Closed VBS-SBS gap: 56.02%\n",
      "VBS: Par2: 127329.0, Solved: 222\n",
      "SBS: Par2: 175465.0, Solved: 196\n",
      "\n",
      "Experiment over 4\n",
      "EHM model with BoKW: Par2: 123815.0, Solved: 226\n",
      "Closed VBS-SBS gap: 61.19%\n",
      "VBS: Par2: 96629.8, Solved: 239\n",
      "SBS: Par2: 166683.4, Solved: 201\n",
      "\n",
      "Mean over 5 folds\n",
      "EHM model with BoKW: Par2: 147632.2, Solved: 211.6, Par2 gap: 54.82%, Solved gap: 55.53%\n"
     ]
    }
   ],
   "source": [
    "ehm_bokw_cv_trained_model_dir = \"saved_models/ehm_bokw\"\n",
    "ehm_bokw_cv_results = []\n",
    "\n",
    "for i in range(len(res_tsv_lst)):\n",
    "    test_res_tsv = res_tsv_lst[i]\n",
    "    test_res_dict, _ = parse_from_tsv(test_res_tsv, num_tool_cols=2, timeout=900.0)\n",
    "    vbs_test_resdict = generate_vbs_resdict(test_res_dict)\n",
    "    vbs_test_par2 = get_par_N_for_dict(vbs_test_resdict, 2, 900.0)\n",
    "    vbs_test_solved = get_solved_num_for_dict(vbs_test_resdict)\n",
    "    sbs_config = get_sbs(test_res_dict, dict_par2_func)\n",
    "    sbs_resdict = generate_one_resdict(test_res_dict, sbs_config)\n",
    "    sbs_test_par2 = dict_par2_func(sbs_resdict)\n",
    "    sbs_test_solved = get_solved_num_for_dict(sbs_resdict)\n",
    "\n",
    "    model_dir = f\"{ehm_bokw_cv_trained_model_dir}/{i}\"\n",
    "    ehm_regressors = []\n",
    "    for j in range(tool_config_size):\n",
    "        model = XGBRegressor()\n",
    "        model.load_model(f\"{model_dir}/xg_{j}.json\")\n",
    "        ehm_regressors.append(model)\n",
    "\n",
    "    ehm_res = {}\n",
    "    for benchmark in test_res_dict:\n",
    "        selected_lst = get_ehm_algorithm_selection_lst(benchmark, ehm_regressors, get_kwcounts)\n",
    "        selected_config = selected_lst[0]\n",
    "        selected_config_name = tool_config_dict[selected_config][1]\n",
    "        # print(f\"Selected config {selected_config_name} for {benchmark}\")\n",
    "        res_tuple = test_res_dict[benchmark][selected_config]\n",
    "        ehm_res[benchmark] = res_tuple\n",
    "\n",
    "    ehm_par2 = get_par_N_for_dict(ehm_res, 2, 900.0)\n",
    "    ehm_solved = get_solved_num_for_dict(ehm_res)\n",
    "    par2_closed_gap = (sbs_test_par2 - ehm_par2)/(sbs_test_par2 - vbs_test_par2)*100\n",
    "    solved_closed_gap = (sbs_test_solved - ehm_solved)/(sbs_test_solved - vbs_test_solved)*100\n",
    "    ehm_bokw_cv_results.append((ehm_par2, ehm_solved, par2_closed_gap, solved_closed_gap))\n",
    "    print(f\"Experiment over {i}\")\n",
    "    print(f\"EHM model with BoKW: Par2: {ehm_par2:.1f}, Solved: {ehm_solved}\")\n",
    "    print(f\"Closed VBS-SBS gap: {par2_closed_gap:.2f}%\")\n",
    "    print(f\"VBS: Par2: {vbs_test_par2:.1f}, Solved: {vbs_test_solved}\")\n",
    "    print(f\"SBS: Par2: {sbs_test_par2:.1f}, Solved: {sbs_test_solved}\")\n",
    "    print()\n",
    "\n",
    "mean_ehm_bokw_par2 = np.mean([x[0] for x in ehm_bokw_cv_results])\n",
    "mean_ehm_bokw_solved = np.mean([x[1] for x in ehm_bokw_cv_results])\n",
    "mean_par2_gap = np.mean([x[2] for x in ehm_bokw_cv_results])\n",
    "mean_solved_gap = np.mean([x[3] for x in ehm_bokw_cv_results])\n",
    "print(\"Mean over 5 folds\")\n",
    "print(f\"EHM model with BoKW: Par2: {mean_ehm_bokw_par2:.1f}, Solved: {mean_ehm_bokw_solved}, Par2 gap: {mean_par2_gap:.2f}%, Solved gap: {mean_solved_gap:.2f}%\")"
   ]
  },
  {
   "cell_type": "markdown",
   "metadata": {},
   "source": [
    "## EHM-BWA\n",
    "To re-train the models, run the following script:\n",
    "\n",
    "```bash\n",
    "python ehm.py --cv --save_dir=saved_models/ehm_bwa \\\n",
    "performance_data/5fold/0.tsv \\\n",
    "performance_data/5fold/1.tsv \\\n",
    "performance_data/5fold/2.tsv \\\n",
    "performance_data/5fold/3.tsv \\\n",
    "performance_data/5fold/4.tsv\n",
    "```"
   ]
  },
  {
   "cell_type": "code",
   "execution_count": 17,
   "metadata": {},
   "outputs": [
    {
     "name": "stdout",
     "output_type": "stream",
     "text": [
      "Experiment over 0\n",
      "EHM model with BWA: Par2: 152782.2, Solved 210\n",
      "Closed VBS-SBS gap: 51.76%\n",
      "VBS: Par2: 121767.9, Solved: 227\n",
      "SBS: Par2: 186053.3, Solved: 191\n",
      "\n",
      "Experiment over 1\n",
      "EHM model with BWA: Par2: 140190.2, Solved 215\n",
      "Closed VBS-SBS gap: 67.38%\n",
      "VBS: Par2: 119870.9, Solved: 227\n",
      "SBS: Par2: 182165.2, Solved: 190\n",
      "\n",
      "Experiment over 2\n",
      "EHM model with BWA: Par2: 165850.1, Solved 201\n",
      "Closed VBS-SBS gap: 49.92%\n",
      "VBS: Par2: 132034.0, Solved: 220\n",
      "SBS: Par2: 199555.3, Solved: 183\n",
      "\n",
      "Experiment over 3\n",
      "EHM model with BWA: Par2: 144904.0, Solved 213\n",
      "Closed VBS-SBS gap: 63.49%\n",
      "VBS: Par2: 127329.0, Solved: 222\n",
      "SBS: Par2: 175465.0, Solved: 196\n",
      "\n",
      "Experiment over 4\n",
      "EHM model with BWA: Par2: 128188.4, Solved 223\n",
      "Closed VBS-SBS gap: 54.95%\n",
      "VBS: Par2: 96629.8, Solved: 239\n",
      "SBS: Par2: 166683.4, Solved: 201\n",
      "\n",
      "Mean over 5 folds\n",
      "EHM model with BWA: Par2: 146383.0, Solved: 212.4, Par2 gap: 57.50%, Solved gap: 58.45%\n"
     ]
    }
   ],
   "source": [
    "ehm_bwa_cv_trained_model_dir = \"saved_models/ehm_bwa\"\n",
    "ehm_bwa_cv_results = []\n",
    "\n",
    "for i in range(len(res_tsv_lst)):\n",
    "    test_res_tsv = res_tsv_lst[i]\n",
    "    test_res_dict, _ = parse_from_tsv(test_res_tsv, num_tool_cols=2, timeout=900.0)\n",
    "    vbs_test_resdict = generate_vbs_resdict(test_res_dict)\n",
    "    vbs_test_par2 = get_par_N_for_dict(vbs_test_resdict, 2, 900.0)\n",
    "    vbs_test_solved = get_solved_num_for_dict(vbs_test_resdict)\n",
    "    sbs_config = get_sbs(test_res_dict, dict_par2_func)\n",
    "    sbs_resdict = generate_one_resdict(test_res_dict, sbs_config)\n",
    "    sbs_test_par2 = dict_par2_func(sbs_resdict)\n",
    "    sbs_test_solved = get_solved_num_for_dict(sbs_resdict)\n",
    "\n",
    "    model_dir = f\"{ehm_bwa_cv_trained_model_dir}/{i}\"\n",
    "    ehm_regressors = []\n",
    "    for j in range(tool_config_size):\n",
    "        model = XGBRegressor()\n",
    "        model.load_model(f\"{model_dir}/xg_{j}.json\")\n",
    "        ehm_regressors.append(model)\n",
    "\n",
    "    ehm_res = {}\n",
    "    for benchmark in test_res_dict:\n",
    "        selected_lst = get_ehm_algorithm_selection_lst(benchmark, ehm_regressors, get_bitcounts)\n",
    "        selected_config = selected_lst[0]\n",
    "        selected_config_name = tool_config_dict[selected_config][1]\n",
    "        # print(f\"Selected config {selected_config_name} for {benchmark}\")\n",
    "        res_tuple = test_res_dict[benchmark][selected_config]\n",
    "        ehm_res[benchmark] = res_tuple\n",
    "\n",
    "    ehm_par2 = get_par_N_for_dict(ehm_res, 2, 900.0)\n",
    "    ehm_solved = get_solved_num_for_dict(ehm_res)\n",
    "    par2_closed_gap = (sbs_test_par2 - ehm_par2)/(sbs_test_par2 - vbs_test_par2)*100\n",
    "    solved_closed_gap = (sbs_test_solved - ehm_solved)/(sbs_test_solved - vbs_test_solved)*100\n",
    "    ehm_bwa_cv_results.append((ehm_par2, ehm_solved, par2_closed_gap, solved_closed_gap))\n",
    "    print(f\"Experiment over {i}\")\n",
    "    print(f\"EHM model with BWA: Par2: {ehm_par2:.1f}, Solved {ehm_solved}\")\n",
    "    print(f\"Closed VBS-SBS gap: {par2_closed_gap:.2f}%\")\n",
    "    print(f\"VBS: Par2: {vbs_test_par2:.1f}, Solved: {vbs_test_solved}\")\n",
    "    print(f\"SBS: Par2: {sbs_test_par2:.1f}, Solved: {sbs_test_solved}\")\n",
    "    print()\n",
    "\n",
    "mean_ehm_bwa_par2 = np.mean([x[0] for x in ehm_bwa_cv_results])\n",
    "mean_ehm_bwa_solved = np.mean([x[1] for x in ehm_bwa_cv_results])\n",
    "mean_par2_gap = np.mean([x[2] for x in ehm_bwa_cv_results])\n",
    "mean_solved_gap = np.mean([x[3] for x in ehm_bwa_cv_results])\n",
    "print(\"Mean over 5 folds\")\n",
    "print(f\"EHM model with BWA: Par2: {mean_ehm_bwa_par2:.1f}, Solved: {mean_ehm_bwa_solved}, Par2 gap: {mean_par2_gap:.2f}%, Solved gap: {mean_solved_gap:.2f}%\")"
   ]
  },
  {
   "cell_type": "markdown",
   "metadata": {},
   "source": [
    "## PWC-BoKW\n",
    "\n",
    "To re-train the models, run the following script:\n",
    "\n",
    "```bash\n",
    "python pairwise_model.py --cv --save_dir=saved_models/pw_bokw \\\n",
    "performance_data/5fold/0.tsv \\\n",
    "performance_data/5fold/1.tsv \\\n",
    "performance_data/5fold/2.tsv \\\n",
    "performance_data/5fold/3.tsv \\\n",
    "performance_data/5fold/4.tsv\n",
    "```"
   ]
  },
  {
   "cell_type": "code",
   "execution_count": 12,
   "metadata": {},
   "outputs": [
    {
     "name": "stdout",
     "output_type": "stream",
     "text": [
      "Cross validation fold 0\n",
      "Pairwise model with BoWA: Par2: 143824.2, Solved: 214\n",
      "Closed VBS-SBS gap: 65.69%\n",
      "\n",
      "Cross validation fold 1\n",
      "Pairwise model with BoWA: Par2: 142076.4, Solved: 213\n",
      "Closed VBS-SBS gap: 64.35%\n",
      "\n",
      "Cross validation fold 2\n",
      "Pairwise model with BoWA: Par2: 156107.1, Solved: 206\n",
      "Closed VBS-SBS gap: 64.35%\n",
      "\n",
      "Cross validation fold 3\n",
      "Pairwise model with BoWA: Par2: 140596.1, Solved: 215\n",
      "Closed VBS-SBS gap: 72.44%\n",
      "\n",
      "Cross validation fold 4\n",
      "Pairwise model with BoWA: Par2: 120484.8, Solved: 227\n",
      "Closed VBS-SBS gap: 65.95%\n",
      "\n",
      "Mean over 5 folds\n",
      "Pairwise model with BoKW: Par2: 140617.7, Solved: 215.0\n",
      "Closed VBS-SBS gap: 66.56% in par2 and 65.94% in solved\n",
      "\n"
     ]
    }
   ],
   "source": [
    "pw_bokw_cv_trained_model_dir = \"saved_models/pw_bokw\"\n",
    "pw_bokw_cv_results = []\n",
    "\n",
    "for cv_i in range(len(res_tsv_lst)):\n",
    "    print(f\"Cross validation fold {cv_i}\")\n",
    "    test_res_tsv = res_tsv_lst[cv_i]\n",
    "    test_res_dict, _ = parse_from_tsv(test_res_tsv, num_tool_cols=2, timeout=900.0)\n",
    "    vbs_test_resdict = generate_vbs_resdict(test_res_dict)\n",
    "    vbs_test_par2 = get_par_N_for_dict(vbs_test_resdict, 2, 900.0)\n",
    "    vbs_test_solved = get_solved_num_for_dict(vbs_test_resdict)\n",
    "    sbs_config = get_sbs(test_res_dict, dict_par2_func)\n",
    "    sbs_resdict = generate_one_resdict(test_res_dict, sbs_config)\n",
    "    sbs_test_par2 = dict_par2_func(sbs_resdict)\n",
    "    sbs_test_solved = get_solved_num_for_dict(sbs_resdict)\n",
    "\n",
    "    model_dir = f\"{pw_bokw_cv_trained_model_dir}/{cv_i}\"\n",
    "    xg_matrix = np.empty((tool_config_size, tool_config_size), dtype=object)\n",
    "    xg_matrix[:] = None\n",
    "    for i in range(tool_config_size):\n",
    "        for j in range(i+1, tool_config_size):\n",
    "            model_path = Path(model_dir) / f\"xg_{i}_{j}.joblib\"\n",
    "            xg_matrix[i, j] = joblib.load(model_path)\n",
    "            \n",
    "    select_res_dict = {}\n",
    "    for test_benchmark in test_res_dict:\n",
    "        selected_lst = get_pw_algorithm_selection_lst(test_benchmark, xg_matrix, get_kwcounts)\n",
    "        selected_config = selected_lst[0]\n",
    "        selected_config_name = tool_config_dict[selected_config][1]\n",
    "        res_tuple = test_res_dict[test_benchmark][selected_config]\n",
    "        select_res_dict[test_benchmark] = res_tuple\n",
    "\n",
    "    select_par2 = get_par_N_for_dict(select_res_dict, 2, 900.0)\n",
    "    select_solved = get_solved_num_for_dict(select_res_dict)\n",
    "    par2_closed = (sbs_test_par2 - select_par2)/(sbs_test_par2 - vbs_test_par2)*100\n",
    "    solved_closed = (sbs_test_solved - select_solved)/(sbs_test_solved - vbs_test_solved)*100\n",
    "    pw_bokw_cv_results.append((select_par2, select_solved, par2_closed, solved_closed))\n",
    "    print(f\"Pairwise model with BoWA: Par2: {select_par2:.1f}, Solved: {select_solved}\")\n",
    "    print(f\"Closed VBS-SBS gap: {par2_closed:.2f}%\\n\")\n",
    "\n",
    "mean_pw_bwa_par2 = np.mean([res[0] for res in pw_bokw_cv_results])\n",
    "mean_pw_bwa_solved = np.mean([res[1] for res in pw_bokw_cv_results])\n",
    "mean_par2_closed = np.mean([res[2] for res in pw_bokw_cv_results])\n",
    "mean_solved_closed = np.mean([res[3] for res in pw_bokw_cv_results])\n",
    "print(f\"Mean over 5 folds\")\n",
    "print(f\"Pairwise model with BoKW: Par2: {mean_pw_bwa_par2:.1f}, Solved: {mean_pw_bwa_solved}\")\n",
    "print(f\"Closed VBS-SBS gap: {mean_par2_closed:.2f}% in par2 and {mean_solved_closed:.2f}% in solved\\n\")"
   ]
  },
  {
   "cell_type": "markdown",
   "metadata": {},
   "source": [
    "## PWC-BWA\n",
    "\n",
    "To re-train the models, run the following script:\n",
    "\n",
    "```bash\n",
    "python pairwise_model.py --bit --cv --save_dir=saved_models/pw_bwa \\\n",
    "performance_data/5fold/0.tsv \\\n",
    "performance_data/5fold/1.tsv \\\n",
    "performance_data/5fold/2.tsv \\\n",
    "performance_data/5fold/3.tsv \\\n",
    "performance_data/5fold/4.tsv\n",
    "```"
   ]
  },
  {
   "cell_type": "code",
   "execution_count": 16,
   "metadata": {},
   "outputs": [
    {
     "name": "stdout",
     "output_type": "stream",
     "text": [
      "Cross validation fold 0\n",
      "Pairwise model with BWA: Par2: 148966.1, Solved: 211\n",
      "Closed VBS-SBS gap: 57.69%\n",
      "\n",
      "Cross validation fold 1\n",
      "Pairwise model with BWA: Par2: 145743.9, Solved: 211\n",
      "Closed VBS-SBS gap: 58.47%\n",
      "\n",
      "Cross validation fold 2\n",
      "Pairwise model with BWA: Par2: 158159.3, Solved: 205\n",
      "Closed VBS-SBS gap: 61.31%\n",
      "\n",
      "Cross validation fold 3\n",
      "Pairwise model with BWA: Par2: 136560.5, Solved: 217\n",
      "Closed VBS-SBS gap: 80.82%\n",
      "\n",
      "Cross validation fold 4\n",
      "Pairwise model with BWA: Par2: 122008.9, Solved: 226\n",
      "Closed VBS-SBS gap: 63.77%\n",
      "\n",
      "Mean over 5 folds\n",
      "Pairwise model with BWA: Par2: 142287.7, Solved: 214.0\n",
      "Closed VBS-SBS gap: 64.41% in par2 and 63.67% in solved\n",
      "\n"
     ]
    }
   ],
   "source": [
    "pw_bwa_cv_trained_model_dir = \"saved_models/pw_bwa\"\n",
    "pw_bwa_cv_results = []\n",
    "\n",
    "for cv_i in range(len(res_tsv_lst)):\n",
    "    print(f\"Cross validation fold {cv_i}\")\n",
    "    test_res_tsv = res_tsv_lst[cv_i]\n",
    "    test_res_dict, _ = parse_from_tsv(test_res_tsv, num_tool_cols=2, timeout=900.0)\n",
    "    vbs_test_resdict = generate_vbs_resdict(test_res_dict)\n",
    "    vbs_test_par2 = get_par_N_for_dict(vbs_test_resdict, 2, 900.0)\n",
    "    vbs_test_solved = get_solved_num_for_dict(vbs_test_resdict)\n",
    "    sbs_config = get_sbs(test_res_dict, dict_par2_func)\n",
    "    sbs_resdict = generate_one_resdict(test_res_dict, sbs_config)\n",
    "    sbs_test_par2 = dict_par2_func(sbs_resdict)\n",
    "    sbs_test_solved = get_solved_num_for_dict(sbs_resdict)\n",
    "\n",
    "    model_dir = f\"{pw_bwa_cv_trained_model_dir}/{cv_i}\"\n",
    "    xg_matrix = np.empty((tool_config_size, tool_config_size), dtype=object)\n",
    "    xg_matrix[:] = None\n",
    "    for i in range(tool_config_size):\n",
    "        for j in range(i+1, tool_config_size):\n",
    "            model_path = Path(model_dir) / f\"xg_{i}_{j}.joblib\"\n",
    "            xg_matrix[i, j] = joblib.load(model_path)\n",
    "            \n",
    "    select_res_dict = {}\n",
    "    for test_benchmark in test_res_dict:\n",
    "        selected_lst = get_pw_algorithm_selection_lst(test_benchmark, xg_matrix, get_bitcounts)\n",
    "        selected_config = selected_lst[0]\n",
    "        selected_config_name = tool_config_dict[selected_config][1]\n",
    "        res_tuple = test_res_dict[test_benchmark][selected_config]\n",
    "        select_res_dict[test_benchmark] = res_tuple\n",
    "\n",
    "    select_par2 = get_par_N_for_dict(select_res_dict, 2, 900.0)\n",
    "    select_solved = get_solved_num_for_dict(select_res_dict)\n",
    "    par2_closed = (sbs_test_par2 - select_par2)/(sbs_test_par2 - vbs_test_par2)*100\n",
    "    solved_closed = (sbs_test_solved - select_solved)/(sbs_test_solved - vbs_test_solved)*100\n",
    "    pw_bwa_cv_results.append((select_par2, select_solved, par2_closed, solved_closed))\n",
    "    print(f\"Pairwise model with BWA: Par2: {select_par2:.1f}, Solved: {select_solved}\")\n",
    "    print(f\"Closed VBS-SBS gap: {par2_closed:.2f}%\\n\")\n",
    "\n",
    "mean_pw_bwa_par2 = np.mean([res[0] for res in pw_bwa_cv_results])\n",
    "mean_pw_bwa_solved = np.mean([res[1] for res in pw_bwa_cv_results])\n",
    "mean_par2_closed = np.mean([res[2] for res in pw_bwa_cv_results])\n",
    "mean_solved_closed = np.mean([res[3] for res in pw_bwa_cv_results])\n",
    "print(f\"Mean over 5 folds\")\n",
    "print(f\"Pairwise model with BWA: Par2: {mean_pw_bwa_par2:.1f}, Solved: {mean_pw_bwa_solved}\")\n",
    "print(f\"Closed VBS-SBS gap: {mean_par2_closed:.2f}% in par2 and {mean_solved_closed:.2f}% in solved\\n\")\n"
   ]
  },
  {
   "cell_type": "markdown",
   "metadata": {},
   "source": [
    "## DQN-BoKW"
   ]
  },
  {
   "cell_type": "markdown",
   "metadata": {},
   "source": [
    "To re-create the BoKW feature database: `benchmarks/bv/bv_btor2kw.csv`\n",
    "\n",
    "```bash\n",
    "python create_feature.py benchmarks/bv benchmarks/bv/bv_btor2kw.csv\n",
    "```"
   ]
  },
  {
   "cell_type": "markdown",
   "metadata": {},
   "source": [
    "To re-train the DQN model, an example for the model to be tested on 0.tsv is shown as below:\n",
    "\n",
    "```bash\n",
    "python train_dqn.py -m=saved_models/dqn/0 \\\n",
    "performance_data/5fold/1.tsv \\\n",
    "performance_data/5fold/2.tsv \\\n",
    "performance_data/5fold/3.tsv \\\n",
    "performance_data/5fold/4.tsv\n",
    "```"
   ]
  },
  {
   "cell_type": "code",
   "execution_count": 2,
   "metadata": {},
   "outputs": [],
   "source": [
    "import gymnasium as gym\n",
    "import numpy as np\n",
    "from stable_baselines3 import DQN\n",
    "from torch import tensor\n",
    "\n",
    "from parse_raw_tsv import parse_from_tsv\n",
    "from create_feature import KEYWORDS, read_btor2kw_csv\n",
    "from btor2select_env import Btor2SelectMDP_D_test\n",
    "from train_dqn import add_scaled_kw"
   ]
  },
  {
   "cell_type": "code",
   "execution_count": 3,
   "metadata": {},
   "outputs": [],
   "source": [
    "class MaskedTestDQN(DQN):\n",
    "    def __init__(self, *args, **kwargs):\n",
    "        super(MaskedTestDQN, self).__init__(*args, **kwargs)\n",
    "\n",
    "    def masked_predict(self, obs, masks):\n",
    "        if len(obs.shape) == 1:\n",
    "            obs = np.expand_dims(obs, axis=0)\n",
    "        q_values = self.policy.q_net(tensor(obs).float().to(self.device))\n",
    "        q_values = q_values.cpu().detach().numpy()\n",
    "        masks = masks.astype(int)\n",
    "        for i in range(len(obs)):\n",
    "            q_values[i][masks[i] == 0] = -np.inf\n",
    "        actions = q_values.argmax(axis=1)\n",
    "        return actions"
   ]
  },
  {
   "cell_type": "code",
   "execution_count": 5,
   "metadata": {},
   "outputs": [],
   "source": [
    "kw_size = len(KEYWORDS)\n",
    "kw_embds = read_btor2kw_csv(\"benchmarks/bv/bv_btor2kw.csv\")\n",
    "sc_kw_embds, kw_scaler = add_scaled_kw(kw_embds)"
   ]
  },
  {
   "cell_type": "markdown",
   "metadata": {},
   "source": [
    "Cross Validation for 0.tsv"
   ]
  },
  {
   "cell_type": "code",
   "execution_count": 12,
   "metadata": {},
   "outputs": [
    {
     "name": "stdout",
     "output_type": "stream",
     "text": [
      "Success rate: 215/289 = 0.74\n",
      "PAR-2: 143949.02\n"
     ]
    }
   ],
   "source": [
    "test_res_tsv0 = \"performance_data/5fold/0.tsv\"\n",
    "test_res_dict0, tool_config_dict0 = parse_from_tsv(test_res_tsv0, num_tool_cols=2, timeout=900.0)\n",
    "test_env0 = Btor2SelectMDP_D_test(\n",
    "                instance_embed_size=kw_size,\n",
    "                res_dict=test_res_dict0,\n",
    "                tool_config_dict=tool_config_dict0,\n",
    "                early_timeouts=[100, 300],\n",
    "                embd_dict=sc_kw_embds,\n",
    "                timeout=900\n",
    "            )\n",
    "agent0 = MaskedTestDQN.load(\"saved_models/dqn/0/best_model.zip\")\n",
    "total_test_size0 = len(test_res_dict0)\n",
    "num_solved0 = 0\n",
    "par2_0 = 0\n",
    "test_results0 = {}\n",
    "obs, reset_info = test_env0.reset_test()\n",
    "while not test_env0.is_test_done():\n",
    "    masks = np.array([test_env0.get_legal_actions()])\n",
    "    actions = agent0.masked_predict(obs, masks)\n",
    "    action = actions[0]\n",
    "    obs, _, eps_terminated, _, info = test_env0.step(action)\n",
    "    if eps_terminated:\n",
    "        if info[\"is_success\"]:\n",
    "            num_solved0 += 1\n",
    "            par2_0 += info[\"time\"]\n",
    "        else:\n",
    "            par2_0 += 1800\n",
    "        obs, reset_info = test_env0.reset_test()\n",
    "print(f\"Success rate: {num_solved0}/{total_test_size0} = {num_solved0/total_test_size0:.2f}\")\n",
    "print(f\"PAR-2: {par2_0:.2f}\")"
   ]
  },
  {
   "cell_type": "markdown",
   "metadata": {},
   "source": [
    "Cross Validation for 1.tsv"
   ]
  },
  {
   "cell_type": "code",
   "execution_count": 13,
   "metadata": {},
   "outputs": [
    {
     "name": "stdout",
     "output_type": "stream",
     "text": [
      "Success rate: 216/288 = 0.75\n",
      "PAR-2: 141236.71\n"
     ]
    },
    {
     "name": "stderr",
     "output_type": "stream",
     "text": [
      "/Users/zhengyanglu/opt/anaconda3/envs/btor2select/lib/python3.12/site-packages/stable_baselines3/common/buffers.py:241: UserWarning: This system does not have apparently enough memory to store the complete replay buffer 0.66GB > 0.37GB\n",
      "  warnings.warn(\n"
     ]
    }
   ],
   "source": [
    "test_res_tsv1 = \"performance_data/5fold/1.tsv\"\n",
    "test_res_dict1, tool_config_dict1 = parse_from_tsv(test_res_tsv1, num_tool_cols=2, timeout=900.0)\n",
    "test_env1 = Btor2SelectMDP_D_test(\n",
    "                instance_embed_size=kw_size,\n",
    "                res_dict=test_res_dict1,\n",
    "                tool_config_dict=tool_config_dict1,\n",
    "                early_timeouts=[100, 300],\n",
    "                embd_dict=sc_kw_embds,\n",
    "                timeout=900\n",
    "            )\n",
    "agent1 = MaskedTestDQN.load(\"saved_models/dqn/1/best_model.zip\")\n",
    "total_test_size1 = len(test_res_dict1)\n",
    "num_solved1 = 0\n",
    "par2_1 = 0\n",
    "test_results1 = {}\n",
    "obs, reset_info = test_env1.reset_test()\n",
    "while not test_env1.is_test_done():\n",
    "    masks = np.array([test_env1.get_legal_actions()])\n",
    "    actions = agent1.masked_predict(obs, masks)\n",
    "    action = actions[0]\n",
    "    obs, _, eps_terminated, _, info = test_env1.step(action)\n",
    "    if eps_terminated:\n",
    "        if info[\"is_success\"]:\n",
    "            num_solved1 += 1\n",
    "            par2_1 += info[\"time\"]\n",
    "        else:\n",
    "            par2_1 += 1800\n",
    "        obs, reset_info = test_env1.reset_test()\n",
    "print(f\"Success rate: {num_solved1}/{total_test_size1} = {num_solved1/total_test_size1:.2f}\")\n",
    "print(f\"PAR-2: {par2_1:.2f}\")"
   ]
  },
  {
   "cell_type": "markdown",
   "metadata": {},
   "source": [
    "Cross Validation for 2.tsv"
   ]
  },
  {
   "cell_type": "code",
   "execution_count": 14,
   "metadata": {},
   "outputs": [
    {
     "name": "stdout",
     "output_type": "stream",
     "text": [
      "Success rate: 214/288 = 0.74\n",
      "PAR-2: 145255.62\n"
     ]
    }
   ],
   "source": [
    "test_res_tsv2 = \"performance_data/5fold/2.tsv\"\n",
    "test_res_dict2, tool_config_dict2 = parse_from_tsv(test_res_tsv2, num_tool_cols=2, timeout=900.0)\n",
    "test_env2 = Btor2SelectMDP_D_test(\n",
    "                instance_embed_size=kw_size,\n",
    "                res_dict=test_res_dict2,\n",
    "                tool_config_dict=tool_config_dict2,\n",
    "                early_timeouts=[100, 300],\n",
    "                embd_dict=sc_kw_embds,\n",
    "                timeout=900\n",
    "            )\n",
    "agent2 = MaskedTestDQN.load(\"saved_models/dqn/2/best_model.zip\")\n",
    "total_test_size2 = len(test_res_dict2)\n",
    "num_solved2 = 0\n",
    "par2_2 = 0\n",
    "\n",
    "test_results2 = {}\n",
    "obs, reset_info = test_env2.reset_test()\n",
    "while not test_env2.is_test_done():\n",
    "    masks = np.array([test_env2.get_legal_actions()])\n",
    "    actions = agent2.masked_predict(obs, masks)\n",
    "    action = actions[0]\n",
    "    obs, _, eps_terminated, _, info = test_env2.step(action)\n",
    "    if eps_terminated:\n",
    "        if info[\"is_success\"]:\n",
    "            num_solved2 += 1\n",
    "            par2_2 += info[\"time\"]\n",
    "        else:\n",
    "            par2_2 += 1800\n",
    "        obs, reset_info = test_env2.reset_test()\n",
    "print(f\"Success rate: {num_solved2}/{total_test_size2} = {num_solved2/total_test_size2:.2f}\")\n",
    "print(f\"PAR-2: {par2_2:.2f}\")"
   ]
  },
  {
   "cell_type": "markdown",
   "metadata": {},
   "source": [
    "Cross Validation for 3.tsv"
   ]
  },
  {
   "cell_type": "code",
   "execution_count": 15,
   "metadata": {},
   "outputs": [
    {
     "name": "stdout",
     "output_type": "stream",
     "text": [
      "Success rate: 216/288 = 0.75\n",
      "PAR-2: 137081.86\n"
     ]
    }
   ],
   "source": [
    "test_res_tsv3 = \"performance_data/5fold/3.tsv\"\n",
    "test_res_dict3, tool_config_dict3 = parse_from_tsv(test_res_tsv3, num_tool_cols=2, timeout=900.0)\n",
    "test_env3 = Btor2SelectMDP_D_test(\n",
    "                instance_embed_size=kw_size,\n",
    "                res_dict=test_res_dict3,\n",
    "                tool_config_dict=tool_config_dict3,\n",
    "                early_timeouts=[100, 300],\n",
    "                embd_dict=sc_kw_embds,\n",
    "                timeout=900\n",
    "            )\n",
    "agent3 = MaskedTestDQN.load(\"saved_models/dqn/3/best_model.zip\")\n",
    "total_test_size3 = len(test_res_dict3)\n",
    "num_solved3 = 0\n",
    "par2_3 = 0\n",
    "test_results3 = {}\n",
    "obs, reset_info = test_env3.reset_test()\n",
    "while not test_env3.is_test_done():\n",
    "    masks = np.array([test_env3.get_legal_actions()])\n",
    "    actions = agent3.masked_predict(obs, masks)\n",
    "    action = actions[0]\n",
    "    obs, _, eps_terminated, _, info = test_env3.step(action)\n",
    "    if eps_terminated:\n",
    "        if info[\"is_success\"]:\n",
    "            num_solved3 += 1\n",
    "            par2_3 += info[\"time\"]\n",
    "        else:\n",
    "            par2_3 += 1800\n",
    "        obs, reset_info = test_env3.reset_test()\n",
    "print(f\"Success rate: {num_solved3}/{total_test_size3} = {num_solved3/total_test_size3:.2f}\")\n",
    "print(f\"PAR-2: {par2_3:.2f}\")"
   ]
  },
  {
   "cell_type": "markdown",
   "metadata": {},
   "source": [
    "Cross Validation for 4.tsv"
   ]
  },
  {
   "cell_type": "code",
   "execution_count": 16,
   "metadata": {},
   "outputs": [
    {
     "name": "stdout",
     "output_type": "stream",
     "text": [
      "Success rate: 226/288 = 0.78\n",
      "PAR-2: 120361.57\n"
     ]
    },
    {
     "name": "stderr",
     "output_type": "stream",
     "text": [
      "/Users/zhengyanglu/opt/anaconda3/envs/btor2select/lib/python3.12/site-packages/stable_baselines3/common/buffers.py:241: UserWarning: This system does not have apparently enough memory to store the complete replay buffer 0.66GB > 0.36GB\n",
      "  warnings.warn(\n"
     ]
    }
   ],
   "source": [
    "test_res_tsv4 = \"performance_data/5fold/4.tsv\"\n",
    "test_res_dict4, tool_config_dict4 = parse_from_tsv(test_res_tsv4, num_tool_cols=2, timeout=900.0)\n",
    "test_env4 = Btor2SelectMDP_D_test(\n",
    "                instance_embed_size=kw_size,\n",
    "                res_dict=test_res_dict4,\n",
    "                tool_config_dict=tool_config_dict4,\n",
    "                early_timeouts=[100, 300],\n",
    "                embd_dict=sc_kw_embds,\n",
    "                timeout=900\n",
    "            )\n",
    "agent4 = MaskedTestDQN.load(\"saved_models/dqn/4/best_model.zip\")\n",
    "total_test_size4 = len(test_res_dict4)\n",
    "num_solved4 = 0\n",
    "par2_4 = 0\n",
    "test_results4 = {}\n",
    "obs, reset_info = test_env4.reset_test()\n",
    "while not test_env4.is_test_done():\n",
    "    masks = np.array([test_env4.get_legal_actions()])\n",
    "    actions = agent4.masked_predict(obs, masks)\n",
    "    action = actions[0]\n",
    "    obs, _, eps_terminated, _, info = test_env4.step(action)\n",
    "    if eps_terminated:\n",
    "        if info[\"is_success\"]:\n",
    "            num_solved4 += 1\n",
    "            par2_4 += info[\"time\"]\n",
    "        else:\n",
    "            par2_4 += 1800\n",
    "        obs, reset_info = test_env4.reset_test()\n",
    "print(f\"Success rate: {num_solved4}/{total_test_size4} = {num_solved4/total_test_size4:.2f}\")\n",
    "print(f\"PAR-2: {par2_4:.2f}\")"
   ]
  },
  {
   "cell_type": "markdown",
   "metadata": {},
   "source": [
    "Average 5-fold"
   ]
  },
  {
   "cell_type": "code",
   "execution_count": 18,
   "metadata": {},
   "outputs": [
    {
     "name": "stdout",
     "output_type": "stream",
     "text": [
      "Average solved: 217.4\n",
      "Average PAR-2: 137577.0\n",
      "closed par-2: 0.71100\n"
     ]
    }
   ],
   "source": [
    "average_solved = (num_solved0 + num_solved1 + num_solved2 + num_solved3 + num_solved4) / 5\n",
    "average_par2 = (par2_0 + par2_1 + par2_2 + par2_3 + par2_4) / 5\n",
    "print(f\"Average solved: {average_solved:.1f}\")\n",
    "print(f\"Average PAR-2: {average_par2:.1f}\")\n",
    "ave_vbs_par2 = 119526.3\n",
    "ave_sbs_par2 = 181984.4\n",
    "print(f\"closed par-2: {(average_par2 - ave_sbs_par2) / (ave_vbs_par2 - ave_sbs_par2):.5f}\")"
   ]
  },
  {
   "cell_type": "markdown",
   "metadata": {},
   "source": [
    "## Shapley Contribution\n",
    "See `reproduce_aaai.ipynb` for the computation of Shapley contributions."
   ]
  },
  {
   "cell_type": "code",
   "execution_count": null,
   "metadata": {},
   "outputs": [],
   "source": []
  }
 ],
 "metadata": {
  "kernelspec": {
   "display_name": "btor2select",
   "language": "python",
   "name": "python3"
  },
  "language_info": {
   "codemirror_mode": {
    "name": "ipython",
    "version": 3
   },
   "file_extension": ".py",
   "mimetype": "text/x-python",
   "name": "python",
   "nbconvert_exporter": "python",
   "pygments_lexer": "ipython3",
   "version": "3.12.4"
  }
 },
 "nbformat": 4,
 "nbformat_minor": 2
}
