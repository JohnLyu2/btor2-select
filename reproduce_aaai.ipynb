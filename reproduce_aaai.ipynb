{
 "cells": [
  {
   "cell_type": "markdown",
   "metadata": {},
   "source": [
    "## Benchmarks and Verifiers"
   ]
  },
  {
   "cell_type": "code",
   "execution_count": 1,
   "metadata": {},
   "outputs": [],
   "source": [
    "import joblib\n",
    "import ast\n",
    "import itertools\n",
    "import json\n",
    "import numpy as np\n",
    "from pathlib import Path\n",
    "from functools import partial\n",
    "import matplotlib.pyplot as plt\n",
    "from sklearn.preprocessing import StandardScaler\n",
    "from sklearn.decomposition import PCA\n",
    "from xgboost import XGBRegressor\n",
    "from create_feature import get_kwcounts, get_bitcounts\n",
    "from parse_raw_tsv import parse_from_tsv, parse_from_tsv_lst, get_btor2path_from_yml, tsv_train_test_partition\n",
    "from pairwise_model import PairwiseXGBoost, get_pw_algorithm_selection_lst\n",
    "from ehm import get_ehm_algorithm_selection_lst\n",
    "from analyze import get_par_N_for_dict, get_solved_num_for_dict, generate_one_resdict, generate_vbs_resdict, get_sbs\n"
   ]
  },
  {
   "cell_type": "code",
   "execution_count": 2,
   "metadata": {},
   "outputs": [
    {
     "name": "stdout",
     "output_type": "stream",
     "text": [
      "Total number of benchmarks: 1441\n",
      "Total number of tools: 10\n"
     ]
    }
   ],
   "source": [
    "all_res_tsv = \"performance_data/performance.table.csv\"\n",
    "all_res_dict, tool_config_dict = parse_from_tsv(all_res_tsv, num_tool_cols=2, timeout=900.0)\n",
    "tool_config_size = len(tool_config_dict)\n",
    "print(\"Total number of benchmarks:\", len(all_res_dict))\n",
    "print(\"Total number of tools:\", tool_config_size)"
   ]
  },
  {
   "cell_type": "code",
   "execution_count": 3,
   "metadata": {},
   "outputs": [
    {
     "data": {
      "text/plain": [
       "{0: ('ESBMC version 7.4.0 64-bit x86_64 linux', 'esbmc.kind.bv64'),\n",
       " 1: ('ESBMC version 7.4.0 64-bit x86_64 linux', 'esbmc.bmc-5-boolector.bv64'),\n",
       " 2: ('AVR ', 'avr.kind.bv64'),\n",
       " 3: ('AVR ', 'avr.pdr.bv64'),\n",
       " 4: ('ABC 1.01 (compiled Jun  7 2024 14:12:22)', 'abc.pdr.bv64'),\n",
       " 5: ('ABC 1.01 (compiled Jun  7 2024 14:12:22)', 'abc.imc.bv64'),\n",
       " 6: ('AVR ', 'avr.bmc-boolector.bv64'),\n",
       " 7: ('CBMC 5.95.1 (n/a)', 'cbmc.bmc.bv64'),\n",
       " 8: ('ABC 1.01 (compiled Jun  7 2024 14:12:22)', 'abc.bmc.bv64'),\n",
       " 9: ('CBMC 5.95.1 (n/a)', 'cbmc.kind.bv64')}"
      ]
     },
     "execution_count": 3,
     "metadata": {},
     "output_type": "execute_result"
    }
   ],
   "source": [
    "# print component verifier list\n",
    "tool_config_dict"
   ]
  },
  {
   "cell_type": "markdown",
   "metadata": {},
   "source": [
    "## Training & Testing Set"
   ]
  },
  {
   "cell_type": "code",
   "execution_count": null,
   "metadata": {},
   "outputs": [],
   "source": [
    "# divide data into training-testing ratio of 4:1\n",
    "tsv_train_test_partition('performance_data/performance.table.csv', 4, 'performance_data/', random_seed=42)"
   ]
  },
  {
   "cell_type": "code",
   "execution_count": 5,
   "metadata": {},
   "outputs": [
    {
     "name": "stdout",
     "output_type": "stream",
     "text": [
      "Trainng instance set size: 1153\n",
      "Test instance set size: 288\n"
     ]
    }
   ],
   "source": [
    "training_res_tsv = \"performance_data/train.tsv\"\n",
    "training_res_dict, _ = parse_from_tsv(training_res_tsv, num_tool_cols=2, timeout=900.0)\n",
    "test_res_tsv = \"performance_data/test.tsv\"\n",
    "test_res_dict, _ = parse_from_tsv(test_res_tsv, num_tool_cols=2, timeout=900.0)\n",
    "print(f\"Trainng instance set size: {len(training_res_dict)}\")\n",
    "print(f\"Test instance set size: {len(test_res_dict)}\")"
   ]
  },
  {
   "cell_type": "markdown",
   "metadata": {},
   "source": [
    "### Test set SBS and VBS"
   ]
  },
  {
   "cell_type": "code",
   "execution_count": 6,
   "metadata": {},
   "outputs": [
    {
     "name": "stdout",
     "output_type": "stream",
     "text": [
      "VBS: Par2: 96629.8, Solved: 239\n",
      "SBS: Par2: 166683.4, Solved: 201\n",
      "\n",
      "abc.bmc.bv64: Par2: 384379.0, Solved: 76\n",
      "abc.imc.bv64: Par2: 274126.7, Solved: 141\n",
      "abc.pdr.bv64: Par2: 166683.4, Solved: 201\n",
      "avr.bmc-boolector.bv64: Par2: 381769.1, Solved: 78\n",
      "avr.kind.bv64: Par2: 327324.0, Solved: 107\n",
      "avr.pdr.bv64: Par2: 241999.9, Solved: 159\n",
      "cbmc.bmc.bv64: Par2: 353878.0, Solved: 94\n",
      "cbmc.kind.bv64: Par2: 281047.6, Solved: 136\n",
      "esbmc.bmc-5-boolector.bv64: Par2: 369753.8, Solved: 85\n",
      "esbmc.kind.bv64: Par2: 326327.7, Solved: 109\n"
     ]
    }
   ],
   "source": [
    "dict_par2_func = partial(get_par_N_for_dict, N=2, timeout=900.0)\n",
    "\n",
    "vbs_test_resdict = generate_vbs_resdict(test_res_dict)\n",
    "vbs_test_par2 = get_par_N_for_dict(vbs_test_resdict, 2, 900.0)\n",
    "vbs_test_solved = get_solved_num_for_dict(vbs_test_resdict)\n",
    "\n",
    "sbs_config = get_sbs(test_res_dict, dict_par2_func)\n",
    "sbs_resdict = generate_one_resdict(test_res_dict, sbs_config)\n",
    "sbs_test_par2 = dict_par2_func(sbs_resdict)\n",
    "sbs_test_solved = get_solved_num_for_dict(sbs_resdict)\n",
    "print(f\"VBS: Par2: {vbs_test_par2:.1f}, Solved: {vbs_test_solved}\")\n",
    "print(f\"SBS: Par2: {sbs_test_par2:.1f}, Solved: {sbs_test_solved}\\n\")\n",
    "\n",
    "# print each tool's performance\n",
    "individual_tool_performance_strs = []\n",
    "for tool_id in range(tool_config_size):\n",
    "    tool_resdict = generate_one_resdict(test_res_dict, tool_id)\n",
    "    tool_par2 = dict_par2_func(tool_resdict)\n",
    "    tool_solved = get_solved_num_for_dict(tool_resdict)\n",
    "    tool_name = tool_config_dict[tool_id][1]\n",
    "    individual_tool_performance_strs.append(f\"{tool_name}: Par2: {tool_par2:.1f}, Solved: {tool_solved}\")\n",
    "\n",
    "# sort performance_strs\n",
    "individual_tool_performance_strs.sort()\n",
    "for s in individual_tool_performance_strs:\n",
    "    print(s)"
   ]
  },
  {
   "cell_type": "markdown",
   "metadata": {},
   "source": [
    "## Instance Embedding\n",
    "BoKW and BWA for 69 keywords"
   ]
  },
  {
   "cell_type": "code",
   "execution_count": 7,
   "metadata": {},
   "outputs": [
    {
     "name": "stdout",
     "output_type": "stream",
     "text": [
      "The list of all keywords (in total 69) are\n",
      "['add', 'and', 'bad', 'constraint', 'concat', 'const', 'constd', 'consth', 'dec', 'eq', 'fair', 'iff', 'implies', 'iff', 'inc', 'init', 'input', 'ite', 'justice', 'mul', 'nand', 'neq', 'neg', 'next', 'nor', 'not', 'one', 'ones', 'or', 'output', 'read', 'redand', 'redor', 'redxor', 'rol', 'ror', 'saddo', 'sext', 'sgt', 'sgte', 'sdiv', 'sdivo', 'slice', 'sll', 'slt', 'slte', 'sort', 'smod', 'smulo', 'ssubo', 'sra', 'srl', 'srem', 'state', 'sub', 'uaddo', 'udiv', 'uext', 'ugt', 'ugte', 'ult', 'ulte', 'umulo', 'urem', 'usubo', 'write', 'xnor', 'xor', 'zero']\n"
     ]
    }
   ],
   "source": [
    "from create_feature import KEYWORDS\n",
    "print(f\"The list of all keywords (in total {len(KEYWORDS)}) are\")\n",
    "print(KEYWORDS)"
   ]
  },
  {
   "cell_type": "markdown",
   "metadata": {},
   "source": [
    "## Parwise Models\n",
    "### BoKW"
   ]
  },
  {
   "cell_type": "markdown",
   "metadata": {},
   "source": [
    "To retrain the models, run the following script:\n",
    "\n",
    "```bash\n",
    "python pairwise_model.py --save_dir=saved_models/pw_bokw performance_data/train.tsv\n",
    "```"
   ]
  },
  {
   "cell_type": "code",
   "execution_count": 8,
   "metadata": {},
   "outputs": [],
   "source": [
    "pw_bokw_dir = \"saved_models/pw_bokw\"\n",
    "pw_bokw_xg_matrix = np.empty((tool_config_size, tool_config_size), dtype=object)\n",
    "pw_bokw_xg_matrix[:] = None\n",
    "for i in range(tool_config_size):\n",
    "    for j in range(i+1, tool_config_size):\n",
    "        pw_bokw_xg_matrix[i, j] = joblib.load(Path(pw_bokw_dir) / f\"xg_{i}_{j}.joblib\")"
   ]
  },
  {
   "cell_type": "code",
   "execution_count": 9,
   "metadata": {},
   "outputs": [],
   "source": [
    "pw_bokw_res = {}\n",
    "for test_benchmark in test_res_dict:\n",
    "    selected_lst = get_pw_algorithm_selection_lst(test_benchmark, pw_bokw_xg_matrix, get_kwcounts)\n",
    "    selected_config = selected_lst[0]\n",
    "    selected_config_name = tool_config_dict[selected_config][1]\n",
    "    # print(f\"Selected config {selected_config_name} for {test_benchmark}\")\n",
    "    res_tuple = test_res_dict[test_benchmark][selected_config]\n",
    "    pw_bokw_res[test_benchmark] = res_tuple"
   ]
  },
  {
   "cell_type": "code",
   "execution_count": 10,
   "metadata": {},
   "outputs": [
    {
     "name": "stdout",
     "output_type": "stream",
     "text": [
      "Pairwise model with BoKW: Par2: 120484.8, Solved: 227\n",
      "Closed VBS-SBS gap: 65.95%\n"
     ]
    }
   ],
   "source": [
    "pw_bokw_par2 = get_par_N_for_dict(pw_bokw_res, 2, 900.0)\n",
    "pw_bokw_solved = get_solved_num_for_dict(pw_bokw_res)\n",
    "print(f\"Pairwise model with BoKW: Par2: {pw_bokw_par2:.1f}, Solved: {pw_bokw_solved}\")\n",
    "print(f\"Closed VBS-SBS gap: {(sbs_test_par2 - pw_bokw_par2)/(sbs_test_par2 - vbs_test_par2)*100:.2f}%\")"
   ]
  },
  {
   "cell_type": "markdown",
   "metadata": {},
   "source": [
    "### BoKW with PCA\n",
    "Training script:\n",
    "```bash\n",
    "python pairwise_model.py --pca --save_dir=saved_models/pw_bokw_pca performance_data/train.tsv\n",
    "```"
   ]
  },
  {
   "cell_type": "code",
   "execution_count": 11,
   "metadata": {},
   "outputs": [],
   "source": [
    "pw_bokw_pca_dir = \"saved_models/pw_bokw_pca\"\n",
    "pw_bokw_pca_xg_matrix = np.empty((tool_config_size, tool_config_size), dtype=object)\n",
    "pw_bokw_pca_scaler_matrix = np.empty((tool_config_size, tool_config_size), dtype=object)\n",
    "pw_bokw_pca_pca_matrix = np.empty((tool_config_size, tool_config_size), dtype=object)\n",
    "pw_bokw_pca_xg_matrix[:] = None\n",
    "pw_bokw_pca_scaler_matrix[:] = None\n",
    "pw_bokw_pca_pca_matrix[:] = None\n",
    "for i in range(tool_config_size):\n",
    "    for j in range(i+1, tool_config_size):\n",
    "        pw_bokw_pca_xg_matrix[i, j] = joblib.load(Path(pw_bokw_pca_dir) / f\"xg_{i}_{j}.joblib\")\n",
    "        pw_bokw_pca_scaler_matrix[i, j] = joblib.load(Path(pw_bokw_pca_dir) / f\"scaler_{i}_{j}.joblib\")\n",
    "        pw_bokw_pca_pca_matrix[i, j] = joblib.load(Path(pw_bokw_pca_dir) / f\"pca_{i}_{j}.joblib\")"
   ]
  },
  {
   "cell_type": "code",
   "execution_count": 12,
   "metadata": {},
   "outputs": [],
   "source": [
    "pw_bokw_pca_res = {}\n",
    "for test_benchmark in test_res_dict:\n",
    "    selected_lst = get_pw_algorithm_selection_lst(test_benchmark, pw_bokw_pca_xg_matrix, get_kwcounts, scaler_matrix=pw_bokw_pca_scaler_matrix, pca_matrix=pw_bokw_pca_pca_matrix)\n",
    "    selected_config = selected_lst[0]\n",
    "    selected_config_name = tool_config_dict[selected_config][1]\n",
    "    # print(f\"Selected config {selected_config_name} for {test_benchmark}\")\n",
    "    res_tuple = test_res_dict[test_benchmark][selected_config]\n",
    "    pw_bokw_pca_res[test_benchmark] = res_tuple"
   ]
  },
  {
   "cell_type": "code",
   "execution_count": 13,
   "metadata": {},
   "outputs": [
    {
     "name": "stdout",
     "output_type": "stream",
     "text": [
      "Pairwise model with BoKW PCA: Par2: 125330.9, Solved: 224\n",
      "Closed VBS-SBS gap: 59.03%\n"
     ]
    }
   ],
   "source": [
    "pw_bokw_pca_par2 = get_par_N_for_dict(pw_bokw_pca_res, 2, 900.0)\n",
    "pw_bokw_pca_solved = get_solved_num_for_dict(pw_bokw_pca_res)\n",
    "print(f\"Pairwise model with BoKW PCA: Par2: {pw_bokw_pca_par2:.1f}, Solved: {pw_bokw_pca_solved}\")\n",
    "print(f\"Closed VBS-SBS gap: {(sbs_test_par2 - pw_bokw_pca_par2)/(sbs_test_par2 - vbs_test_par2)*100:.2f}%\")"
   ]
  },
  {
   "cell_type": "markdown",
   "metadata": {},
   "source": [
    "### BWA\n",
    "Training script:\n",
    "\n",
    "```bash\n",
    "python pairwise_model.py --save_dir=saved_models/pw_bwa --bit performance_data/train.tsv\n",
    "```"
   ]
  },
  {
   "cell_type": "code",
   "execution_count": 14,
   "metadata": {},
   "outputs": [],
   "source": [
    "pw_bwa_dir = \"saved_models/pw_bwa\"\n",
    "pw_bwa_xg_matrix = np.empty((tool_config_size, tool_config_size), dtype=object)\n",
    "pw_bwa_xg_matrix[:] = None\n",
    "for i in range(tool_config_size):\n",
    "    for j in range(i+1, tool_config_size):\n",
    "        pw_bwa_xg_matrix[i, j] = joblib.load(Path(pw_bwa_dir) / f\"xg_{i}_{j}.joblib\")\n",
    "pw_bwa_res = {}\n",
    "for test_benchmark in test_res_dict:\n",
    "    selected_lst = get_pw_algorithm_selection_lst(test_benchmark, pw_bwa_xg_matrix, get_bitcounts)\n",
    "    selected_config = selected_lst[0]\n",
    "    selected_config_name = tool_config_dict[selected_config][1]\n",
    "    # print(f\"Selected config {selected_config_name} for {test_benchmark}\")\n",
    "    res_tuple = test_res_dict[test_benchmark][selected_config]\n",
    "    pw_bwa_res[test_benchmark] = res_tuple"
   ]
  },
  {
   "cell_type": "code",
   "execution_count": 15,
   "metadata": {},
   "outputs": [
    {
     "name": "stdout",
     "output_type": "stream",
     "text": [
      "Pairwise model with BWA: Par2: 122008.9, Solved: 226\n",
      "Closed VBS-SBS gap: 63.77%\n"
     ]
    }
   ],
   "source": [
    "pw_bwa_par2 = get_par_N_for_dict(pw_bwa_res, 2, 900.0)\n",
    "pw_bwa_solved = get_solved_num_for_dict(pw_bwa_res)\n",
    "print(f\"Pairwise model with BWA: Par2: {pw_bwa_par2:.1f}, Solved: {pw_bwa_solved}\")\n",
    "print(f\"Closed VBS-SBS gap: {(sbs_test_par2 - pw_bwa_par2)/(sbs_test_par2 - vbs_test_par2)*100:.2f}%\")"
   ]
  },
  {
   "cell_type": "markdown",
   "metadata": {},
   "source": [
    "### BWA with PCA\n",
    "Training script:\n",
    "```bash\n",
    "python pairwise_model.py --save_dir=saved_models/pw_bwa_pca --bit --pca performance_data/train.tsv\n",
    "```"
   ]
  },
  {
   "cell_type": "code",
   "execution_count": 23,
   "metadata": {},
   "outputs": [
    {
     "name": "stdout",
     "output_type": "stream",
     "text": [
      "Pairwise model with BWA PCA: Par2: 128951.6, Solved: 222\n",
      "Closed VBS-SBS gap: 53.86%\n"
     ]
    }
   ],
   "source": [
    "pw_bwa_pca_dir = \"saved_models/pw_bwa_pca\"\n",
    "pw_bwa_pca_xg_matrix = np.empty((tool_config_size, tool_config_size), dtype=object)\n",
    "pw_bwa_pca_scaler_matrix = np.empty((tool_config_size, tool_config_size), dtype=object)\n",
    "pw_bwa_pca_pca_matrix = np.empty((tool_config_size, tool_config_size), dtype=object)\n",
    "pw_bwa_pca_xg_matrix[:] = None\n",
    "pw_bwa_pca_scaler_matrix[:] = None\n",
    "pw_bwa_pca_pca_matrix[:] = None\n",
    "for i in range(tool_config_size):\n",
    "    for j in range(i+1, tool_config_size):\n",
    "        pw_bwa_pca_xg_matrix[i, j] = joblib.load(Path(pw_bwa_pca_dir) / f\"xg_{i}_{j}.joblib\")\n",
    "        pw_bwa_pca_scaler_matrix[i, j] = joblib.load(Path(pw_bwa_pca_dir) / f\"scaler_{i}_{j}.joblib\")\n",
    "        pw_bwa_pca_pca_matrix[i, j] = joblib.load(Path(pw_bwa_pca_dir) / f\"pca_{i}_{j}.joblib\")\n",
    "pw_bwa_pca_res = {}\n",
    "for test_benchmark in test_res_dict:\n",
    "    selected_lst = get_pw_algorithm_selection_lst(test_benchmark, pw_bwa_pca_xg_matrix, get_bitcounts, scaler_matrix=pw_bwa_pca_scaler_matrix, pca_matrix=pw_bwa_pca_pca_matrix)\n",
    "    selected_config = selected_lst[0]\n",
    "    selected_config_name = tool_config_dict[selected_config][1]\n",
    "    # print(f\"Selected config {selected_config_name} for {test_benchmark}\")\n",
    "    res_tuple = test_res_dict[test_benchmark][selected_config]\n",
    "    pw_bwa_pca_res[test_benchmark] = res_tuple\n",
    "pw_bwa_pca_par2 = get_par_N_for_dict(pw_bwa_pca_res, 2, 900.0)\n",
    "pw_bwa_pca_solved = get_solved_num_for_dict(pw_bwa_pca_res)\n",
    "print(f\"Pairwise model with BWA PCA: Par2: {pw_bwa_pca_par2:.1f}, Solved: {pw_bwa_pca_solved}\")\n",
    "print(f\"Closed VBS-SBS gap: {(sbs_test_par2 - pw_bwa_pca_par2)/(sbs_test_par2 - vbs_test_par2)*100:.2f}%\")"
   ]
  },
  {
   "cell_type": "markdown",
   "metadata": {},
   "source": [
    "## EHM Models\n",
    "### BoKW\n",
    "Training script:\n",
    "```bash\n",
    "python ehm.py --save_dir=saved_models/ehm_bokw performance_data/train.tsv\n",
    "```"
   ]
  },
  {
   "cell_type": "code",
   "execution_count": 16,
   "metadata": {},
   "outputs": [],
   "source": [
    "# Load the xg regressor models\n",
    "ehm_bokw_dir = \"saved_models/ehm_bokw\"\n",
    "ehm_bokw_regressors = []\n",
    "for i in range(tool_config_size):\n",
    "    model = XGBRegressor()\n",
    "    model.load_model(f\"{ehm_bokw_dir}/xg_{i}.json\")\n",
    "    ehm_bokw_regressors.append(model)"
   ]
  },
  {
   "cell_type": "code",
   "execution_count": 17,
   "metadata": {},
   "outputs": [],
   "source": [
    "ehm_bokw_res = {}\n",
    "for benchmark in test_res_dict:\n",
    "    selected_lst = get_ehm_algorithm_selection_lst(benchmark, ehm_bokw_regressors, get_kwcounts)\n",
    "    selected_config = selected_lst[0]\n",
    "    selected_config_name = tool_config_dict[selected_config][1]\n",
    "    # print(f\"Selected config {selected_config_name} for {benchmark}\")\n",
    "    res_tuple = test_res_dict[benchmark][selected_config]\n",
    "    ehm_bokw_res[benchmark] = res_tuple\n",
    "    "
   ]
  },
  {
   "cell_type": "code",
   "execution_count": 18,
   "metadata": {},
   "outputs": [
    {
     "name": "stdout",
     "output_type": "stream",
     "text": [
      "EHM model with BoKW: Par2: 123815.0, Solved: 226\n",
      "Closed VBS-SBS gap: 61.19%\n"
     ]
    }
   ],
   "source": [
    "ehm_bokw_par2 = get_par_N_for_dict(ehm_bokw_res, 2, 900.0)\n",
    "ehm_bokw_solved = get_solved_num_for_dict(ehm_bokw_res)\n",
    "print(f\"EHM model with BoKW: Par2: {ehm_bokw_par2:.1f}, Solved: {ehm_bokw_solved}\")\n",
    "print(f\"Closed VBS-SBS gap: {(sbs_test_par2 - ehm_bokw_par2)/(sbs_test_par2 - vbs_test_par2)*100:.2f}%\")"
   ]
  },
  {
   "cell_type": "markdown",
   "metadata": {},
   "source": [
    "### BoKW with PCA\n",
    "Training script:\n",
    "```bash\n",
    "python ehm.py --save_dir=saved_models/ehm_bokw --pca performance_data/train.tsv\n",
    "```"
   ]
  },
  {
   "cell_type": "code",
   "execution_count": 19,
   "metadata": {},
   "outputs": [],
   "source": [
    "ehm_bokw_pca_dir = \"saved_models/ehm_bokw_pca\"\n",
    "ehm_bokw_pca_regressors = []\n",
    "ehm_bokw_pca_scalers = []\n",
    "ehm_bokw_pca_pcas = []\n",
    "for i in range(tool_config_size):\n",
    "    model = XGBRegressor()\n",
    "    model.load_model(f\"{ehm_bokw_pca_dir}/xg_{i}.json\")\n",
    "    ehm_bokw_pca_regressors.append(model)\n",
    "    scaler = StandardScaler()\n",
    "    scaler_path = f\"{ehm_bokw_pca_dir}/scaler_{i}.joblib\"\n",
    "    scaler = joblib.load(scaler_path)\n",
    "    ehm_bokw_pca_scalers.append(scaler)\n",
    "    pca = PCA()\n",
    "    pca_path = f\"{ehm_bokw_pca_dir}/pca_{i}.joblib\"\n",
    "    pca = joblib.load(pca_path)\n",
    "    ehm_bokw_pca_pcas.append(pca)"
   ]
  },
  {
   "cell_type": "code",
   "execution_count": 20,
   "metadata": {},
   "outputs": [
    {
     "name": "stdout",
     "output_type": "stream",
     "text": [
      "EHM model with BoKW and PCA: Par2: 128566.8, Solved: 222\n",
      "Closed VBS-SBS gap: 54.41%\n"
     ]
    }
   ],
   "source": [
    "ehm_bokw_pca_res = {}\n",
    "for benchmark in test_res_dict:\n",
    "    selected_lst = get_ehm_algorithm_selection_lst(benchmark, ehm_bokw_pca_regressors, get_kwcounts, scalers=ehm_bokw_pca_scalers, pcas=ehm_bokw_pca_pcas)\n",
    "    selected_config = selected_lst[0]\n",
    "    selected_config_name = tool_config_dict[selected_config][1]\n",
    "    # print(f\"Selected config {selected_config_name} for {benchmark}\")\n",
    "    res_tuple = test_res_dict[benchmark][selected_config]\n",
    "    ehm_bokw_pca_res[benchmark] = res_tuple\n",
    "ehm_bokw_pca_par2 = get_par_N_for_dict(ehm_bokw_pca_res, 2, 900.0)\n",
    "ehm_bokw_pca_solved = get_solved_num_for_dict(ehm_bokw_pca_res)\n",
    "print(f\"EHM model with BoKW and PCA: Par2: {ehm_bokw_pca_par2:.1f}, Solved: {ehm_bokw_pca_solved}\")\n",
    "print(f\"Closed VBS-SBS gap: {(sbs_test_par2 - ehm_bokw_pca_par2)/(sbs_test_par2 - vbs_test_par2)*100:.2f}%\")"
   ]
  },
  {
   "cell_type": "markdown",
   "metadata": {},
   "source": [
    "### BWA\n",
    "Training script\n",
    "```bash\n",
    "python ehm.py --save_dir=saved_models/ehm_bwa --bit performance_data/train.tsv\n",
    "```"
   ]
  },
  {
   "cell_type": "code",
   "execution_count": 21,
   "metadata": {},
   "outputs": [],
   "source": [
    "ehm_bwa_dir = \"saved_models/ehm_bwa\"\n",
    "ehm_bwa_regressors = []\n",
    "for i in range(tool_config_size):\n",
    "    model = XGBRegressor()\n",
    "    model.load_model(f\"{ehm_bwa_dir}/xg_{i}.json\")\n",
    "    ehm_bwa_regressors.append(model)\n",
    "ehm_bwa_res = {}\n",
    "for benchmark in test_res_dict:\n",
    "    selected_lst = get_ehm_algorithm_selection_lst(benchmark, ehm_bwa_regressors, get_bitcounts)\n",
    "    selected_config = selected_lst[0]\n",
    "    selected_config_name = tool_config_dict[selected_config][1]\n",
    "    # print(f\"Selected config {selected_config_name} for {benchmark}\")\n",
    "    res_tuple = test_res_dict[benchmark][selected_config]\n",
    "    ehm_bwa_res[benchmark] = res_tuple"
   ]
  },
  {
   "cell_type": "code",
   "execution_count": 22,
   "metadata": {},
   "outputs": [
    {
     "name": "stdout",
     "output_type": "stream",
     "text": [
      "EHM model with BWA: Par2: 128188.4, Solved: 223\n",
      "Closed VBS-SBS gap: 54.95%\n"
     ]
    }
   ],
   "source": [
    "ehm_bwa_par2 = get_par_N_for_dict(ehm_bwa_res, 2, 900.0)\n",
    "ehm_bwa_solved = get_solved_num_for_dict(ehm_bwa_res)\n",
    "print(f\"EHM model with BWA: Par2: {ehm_bwa_par2:.1f}, Solved: {ehm_bwa_solved}\")\n",
    "print(f\"Closed VBS-SBS gap: {(sbs_test_par2 - ehm_bwa_par2)/(sbs_test_par2 - vbs_test_par2)*100:.2f}%\")"
   ]
  },
  {
   "cell_type": "markdown",
   "metadata": {},
   "source": [
    "### BWA with PCA\n",
    "Training script\n",
    "```bash\n",
    "python ehm.py --save_dir=saved_models/ehm_bwa_pca --bit --pca performance_data/train.tsv\n",
    "```"
   ]
  },
  {
   "cell_type": "code",
   "execution_count": 24,
   "metadata": {},
   "outputs": [
    {
     "name": "stdout",
     "output_type": "stream",
     "text": [
      "EHM model with BWA and PCA: Par2: 135361.1, Solved: 219\n",
      "Closed VBS-SBS gap: 44.71%\n"
     ]
    }
   ],
   "source": [
    "ehm_bwa_pca_dir = \"saved_models/ehm_bwa_pca\"\n",
    "ehm_bwa_pca_regressors = []\n",
    "ehm_bwa_pca_scalers = []\n",
    "ehm_bwa_pca_pcas = []\n",
    "for i in range(tool_config_size):\n",
    "    model = XGBRegressor()\n",
    "    model.load_model(f\"{ehm_bwa_pca_dir}/xg_{i}.json\")\n",
    "    ehm_bwa_pca_regressors.append(model)\n",
    "    scaler = StandardScaler()\n",
    "    scaler_path = f\"{ehm_bwa_pca_dir}/scaler_{i}.joblib\"\n",
    "    scaler = joblib.load(scaler_path)\n",
    "    ehm_bwa_pca_scalers.append(scaler)\n",
    "    pca = PCA()\n",
    "    pca_path = f\"{ehm_bwa_pca_dir}/pca_{i}.joblib\"\n",
    "    pca = joblib.load(pca_path)\n",
    "    ehm_bwa_pca_pcas.append(pca)\n",
    "ehm_bwa_pca_res = {}\n",
    "for benchmark in test_res_dict:\n",
    "    selected_lst = get_ehm_algorithm_selection_lst(benchmark, ehm_bwa_pca_regressors, get_bitcounts, scalers=ehm_bwa_pca_scalers, pcas=ehm_bwa_pca_pcas)\n",
    "    selected_config = selected_lst[0]\n",
    "    selected_config_name = tool_config_dict[selected_config][1]\n",
    "    # print(f\"Selected config {selected_config_name} for {benchmark}\")\n",
    "    res_tuple = test_res_dict[benchmark][selected_config]\n",
    "    ehm_bwa_pca_res[benchmark] = res_tuple\n",
    "ehm_bwa_pca_par2 = get_par_N_for_dict(ehm_bwa_pca_res, 2, 900.0)\n",
    "ehm_bwa_pca_solved = get_solved_num_for_dict(ehm_bwa_pca_res)\n",
    "print(f\"EHM model with BWA and PCA: Par2: {ehm_bwa_pca_par2:.1f}, Solved: {ehm_bwa_pca_solved}\")\n",
    "print(f\"Closed VBS-SBS gap: {(sbs_test_par2 - ehm_bwa_pca_par2)/(sbs_test_par2 - vbs_test_par2)*100:.2f}%\")"
   ]
  },
  {
   "cell_type": "markdown",
   "metadata": {},
   "source": [
    "## Contribution Analysis"
   ]
  },
  {
   "cell_type": "code",
   "execution_count": 25,
   "metadata": {},
   "outputs": [
    {
     "data": {
      "text/plain": [
       "{0: ('ESBMC version 7.4.0 64-bit x86_64 linux', 'esbmc.kind.bv64'),\n",
       " 1: ('ESBMC version 7.4.0 64-bit x86_64 linux', 'esbmc.bmc-5-boolector.bv64'),\n",
       " 2: ('AVR ', 'avr.kind.bv64'),\n",
       " 3: ('AVR ', 'avr.pdr.bv64'),\n",
       " 4: ('ABC 1.01 (compiled Jun  7 2024 14:12:22)', 'abc.pdr.bv64'),\n",
       " 5: ('ABC 1.01 (compiled Jun  7 2024 14:12:22)', 'abc.imc.bv64'),\n",
       " 6: ('AVR ', 'avr.bmc-boolector.bv64'),\n",
       " 7: ('CBMC 5.95.1 (n/a)', 'cbmc.bmc.bv64'),\n",
       " 8: ('ABC 1.01 (compiled Jun  7 2024 14:12:22)', 'abc.bmc.bv64'),\n",
       " 9: ('CBMC 5.95.1 (n/a)', 'cbmc.kind.bv64')}"
      ]
     },
     "execution_count": 25,
     "metadata": {},
     "output_type": "execute_result"
    }
   ],
   "source": [
    "tool_config_dict"
   ]
  },
  {
   "cell_type": "code",
   "execution_count": 26,
   "metadata": {},
   "outputs": [],
   "source": [
    "software_tool_config_lst = [0, 1, 7, 9]"
   ]
  },
  {
   "cell_type": "code",
   "execution_count": 27,
   "metadata": {},
   "outputs": [],
   "source": [
    "def evaluate_pw_num_solved(test_res_dict, model_matrix, selected_tool_config_lst, feature_func):\n",
    "    selected_size = len(selected_tool_config_lst)\n",
    "    if selected_size == 0: return 0\n",
    "    elif selected_size == 1:\n",
    "        selected_config = selected_tool_config_lst[0]\n",
    "        select_res_dict = generate_one_resdict(test_res_dict, selected_config)\n",
    "        return get_solved_num_for_dict(select_res_dict)\n",
    "    else:\n",
    "        all_tool_config_size = model_matrix.shape[0]\n",
    "        assert selected_size <= all_tool_config_size\n",
    "        exclude_lst = [i for i in range(all_tool_config_size) if i not in selected_tool_config_lst]\n",
    "        select_res_dict = {}\n",
    "        for test_benchmark in test_res_dict:\n",
    "            selected_lst = get_pw_algorithm_selection_lst(test_benchmark, model_matrix, feature_func, exclude_lst=exclude_lst)\n",
    "            selected_config = selected_lst[0]\n",
    "            res_tuple = test_res_dict[test_benchmark][selected_config]\n",
    "            select_res_dict[test_benchmark] = res_tuple\n",
    "        return get_solved_num_for_dict(select_res_dict)"
   ]
  },
  {
   "cell_type": "code",
   "execution_count": 32,
   "metadata": {},
   "outputs": [],
   "source": [
    "def powerset(tool_config_size):\n",
    "    tool_configs = list(range(tool_config_size))\n",
    "    powerset_lst = []\n",
    "    for i in range(tool_config_size+1):\n",
    "        for subset in itertools.combinations(tool_configs, i):\n",
    "            powerset_lst.append(subset)\n",
    "    return powerset_lst"
   ]
  },
  {
   "cell_type": "code",
   "execution_count": 33,
   "metadata": {},
   "outputs": [],
   "source": [
    "config_powerset = powerset(tool_config_size)"
   ]
  },
  {
   "cell_type": "code",
   "execution_count": null,
   "metadata": {},
   "outputs": [],
   "source": [
    "pw_bokw_contribution_dataset = {}\n",
    "for configs in config_powerset:\n",
    "    num_solved = evaluate_pw_num_solved(test_res_dict, pw_bokw_xg_matrix, list(configs), get_kwcounts)\n",
    "    pw_bokw_contribution_dataset[configs] = num_solved\n",
    "pw_bokw_contribution_dataset_str_keys = {str(k): v for k, v in pw_bokw_contribution_dataset.items()}\n",
    "# with open(\"pw_bokw_contribution_dataset.json\", \"w\") as f:\n",
    "#     json.dump(pw_bokw_contribution_dataset_str_keys, f)"
   ]
  },
  {
   "cell_type": "code",
   "execution_count": null,
   "metadata": {},
   "outputs": [],
   "source": [
    "# with open(\"pw_bokw_contribution_dataset.json\", \"r\") as f:\n",
    "#     pw_bokw_contribution_dataset_str_keys = json.load(f)\n",
    "pw_bokw_contribution_dataset = {ast.literal_eval(k): v for k, v in pw_bokw_contribution_dataset_str_keys.items()}"
   ]
  },
  {
   "cell_type": "code",
   "execution_count": 42,
   "metadata": {},
   "outputs": [],
   "source": [
    "config_lst = list(range(tool_config_size))\n",
    "permutations = list(itertools.permutations(config_lst))"
   ]
  },
  {
   "cell_type": "code",
   "execution_count": 43,
   "metadata": {},
   "outputs": [],
   "source": [
    "def get_shapley(tool_config_id, tool_config_size, contribution_dataset):\n",
    "    permutations = list(itertools.permutations(range(tool_config_size)))\n",
    "    sum_contribution = 0\n",
    "    for perm in permutations:\n",
    "        assert tool_config_id in perm\n",
    "        index = perm.index(tool_config_id)\n",
    "        before_perm = perm[:index]\n",
    "        sorted_before_perm = tuple(sorted(before_perm))\n",
    "        before_score = contribution_dataset[sorted_before_perm]\n",
    "        after_perm = perm[:index+1]\n",
    "        sorted_after_perm = tuple(sorted(after_perm))\n",
    "        after_score = contribution_dataset[sorted_after_perm]\n",
    "        contribution = after_score - before_score\n",
    "        sum_contribution += contribution\n",
    "    return sum_contribution / len(permutations)"
   ]
  },
  {
   "cell_type": "code",
   "execution_count": 45,
   "metadata": {},
   "outputs": [],
   "source": [
    "paper_verifier_names =[\n",
    "    \"ESBMC.K-Ind\",\n",
    "    \"ESBMC.BMC\",\n",
    "    \"AVR.K-Ind\",\n",
    "    \"AVR.PDR\",\n",
    "    \"ABC.PDR\",\n",
    "    \"ABC.IMC\",\n",
    "    \"AVR.BMC\",\n",
    "    \"CBMC.BMC\",\n",
    "    \"ABC.BMC\",\n",
    "    \"CBMC.K-Ind\"\n",
    "]"
   ]
  },
  {
   "cell_type": "code",
   "execution_count": 46,
   "metadata": {},
   "outputs": [
    {
     "name": "stdout",
     "output_type": "stream",
     "text": [
      "Tool config ESBMC.K-Ind: 16.40\n",
      "Tool config ESBMC.BMC: 9.99\n",
      "Tool config AVR.K-Ind: 14.24\n",
      "Tool config AVR.PDR: 40.41\n",
      "Tool config ABC.PDR: 67.38\n",
      "Tool config ABC.IMC: 27.94\n",
      "Tool config AVR.BMC: 8.00\n",
      "Tool config CBMC.BMC: 12.37\n",
      "Tool config ABC.BMC: 7.38\n",
      "Tool config CBMC.K-Ind: 22.89\n"
     ]
    }
   ],
   "source": [
    "shapley_dict = {}\n",
    "for i in range(tool_config_size):\n",
    "    shapley = get_shapley(i, tool_config_size, pw_bokw_contribution_dataset)\n",
    "    config_name = paper_verifier_names[i]\n",
    "    shapley_dict[config_name] = shapley\n",
    "    print(f\"Tool config {config_name}: {shapley:.2f}\")"
   ]
  },
  {
   "cell_type": "code",
   "execution_count": 52,
   "metadata": {},
   "outputs": [
    {
     "data": {
      "text/plain": [
       "([<matplotlib.patches.Wedge at 0x16c45e060>,\n",
       "  <matplotlib.patches.Wedge at 0x16c424c20>,\n",
       "  <matplotlib.patches.Wedge at 0x16c4b5d60>,\n",
       "  <matplotlib.patches.Wedge at 0x16c4b63f0>,\n",
       "  <matplotlib.patches.Wedge at 0x16c4b5f40>,\n",
       "  <matplotlib.patches.Wedge at 0x16c4b71a0>,\n",
       "  <matplotlib.patches.Wedge at 0x16c4b7aa0>,\n",
       "  <matplotlib.patches.Wedge at 0x16c4b7ec0>,\n",
       "  <matplotlib.patches.Wedge at 0x16c4c8620>,\n",
       "  <matplotlib.patches.Wedge at 0x16c4c8bc0>],\n",
       " [Text(-0.9103607464747735, 0.6174490353688257, 'ABC.BMC'),\n",
       "  Text(-1.0936988637291558, 0.1175703852062813, 'ABC.IMC'),\n",
       "  Text(-0.386082274281332, -1.0300196490775089, 'ABC.PDR'),\n",
       "  Text(0.6956695895628597, -0.8520820513057663, 'AVR.BMC'),\n",
       "  Text(0.9211336231801357, -0.6012593851633719, 'AVR.K-Ind'),\n",
       "  Text(1.0826285848425612, 0.19471863619539168, 'AVR.PDR'),\n",
       "  Text(0.7380557771066889, 0.9461890243917659, 'CBMC.BMC'),\n",
       "  Text(0.20837737983982868, 1.1817693800277143, 'CBMC.K-Ind'),\n",
       "  Text(-0.33222206036761603, 1.1530951836709302, 'ESBMC.BMC'),\n",
       "  Text(-0.7221573806153339, 0.9583781704644572, 'ESBMC.K-Ind')],\n",
       " [Text(-0.49656040716805816, 0.33679038292845037, '7.4'),\n",
       "  Text(-0.5965630165795395, 0.06412930102160797, '27.9'),\n",
       "  Text(-0.21059033142618108, -0.5618288994968229, '67.4'),\n",
       "  Text(0.3794561397615598, -0.46477202798496337, '8.0'),\n",
       "  Text(0.5024365217346194, -0.32795966463456644, '14.2'),\n",
       "  Text(0.590524682641397, 0.10621016519748637, '40.4'),\n",
       "  Text(0.43053253664556845, 0.5519435975618634, '12.4'),\n",
       "  Text(0.12155347157323339, 0.6893654716828332, '22.9'),\n",
       "  Text(-0.19379620188110935, 0.6726388571413758, '10.0'),\n",
       "  Text(-0.42125847202561134, 0.5590539327709332, '16.4')])"
      ]
     },
     "execution_count": 52,
     "metadata": {},
     "output_type": "execute_result"
    },
    {
     "data": {
      "image/png": "[encoded data removed]",
      "text/plain": [
       "<Figure size 640x480 with 1 Axes>"
      ]
     },
     "metadata": {},
     "output_type": "display_data"
    }
   ],
   "source": [
    "sorted_shapley_dict = dict(sorted(shapley_dict.items()))\n",
    "\n",
    "labels = list(sorted_shapley_dict.keys())\n",
    "values = list(sorted_shapley_dict.values())\n",
    "explode = (0, 0, 0, 0, 0, 0, 0.1, 0.1, 0.1, 0.1)\n",
    "\n",
    "cmap = plt.get_cmap('Set3')\n",
    "colors = cmap(np.linspace(0, 1, len(labels)))\n",
    "\n",
    "plt.pie(values, labels=labels, colors=colors, explode=explode, autopct=lambda p: f'{p * sum(values) / 100 :.1f}', startangle=140, textprops={'fontsize': 14})"
   ]
  },
  {
   "cell_type": "code",
   "execution_count": 53,
   "metadata": {},
   "outputs": [
    {
     "name": "stdout",
     "output_type": "stream",
     "text": [
      "percentage of software tools: 27.16%\n"
     ]
    }
   ],
   "source": [
    "sw_shapley_sum = shapley_dict['ESBMC.K-Ind'] + shapley_dict['ESBMC.BMC'] + shapley_dict['CBMC.K-Ind'] + shapley_dict['CBMC.BMC']\n",
    "# sum of all shapley values in the dict\n",
    "shapley_sum = sum(shapley_dict.values())\n",
    "print(f\"percentage of software tools: {sw_shapley_sum/shapley_sum*100:.2f}%\")"
   ]
  },
  {
   "cell_type": "code",
   "execution_count": null,
   "metadata": {},
   "outputs": [],
   "source": []
  }
 ],
 "metadata": {
  "kernelspec": {
   "display_name": "btor2test",
   "language": "python",
   "name": "python3"
  },
  "language_info": {
   "codemirror_mode": {
    "name": "ipython",
    "version": 3
   },
   "file_extension": ".py",
   "mimetype": "text/x-python",
   "name": "python",
   "nbconvert_exporter": "python",
   "pygments_lexer": "ipython3",
   "version": "3.12.5"
  }
 },
 "nbformat": 4,
 "nbformat_minor": 2
}
